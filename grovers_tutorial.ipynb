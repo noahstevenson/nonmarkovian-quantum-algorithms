{
 "cells": [
  {
   "cell_type": "markdown",
   "metadata": {},
   "source": [
    "Outline: <br>\n",
    "Intro to some basics of modelling open quantum systems: drawing of our qubit model with little field lines, printing a circuit of grover's algorithm, what basecase grover's looks like, printing grover's algorithm with a single bath qubit do show what the interactions look like, printing a circuit with two bath qubits to show what bath-bath interactions look like\n",
    "basic results with grovers: 2system2bath: can change the coupling strength: what does this do? \n",
    "Include some theory of grover's algorithm before going into cirq\n",
    "At the end, explain our limitations and where we are intersted in taking this project, given more time"
   ]
  },
  {
   "cell_type": "markdown",
   "metadata": {},
   "source": [
    "# Impact of non-Markovian environments on quantum algorithm performance"
   ]
  },
  {
   "cell_type": "markdown",
   "metadata": {},
   "source": [
    "<center> \n",
    "Noah Stevenson, Keshav Kapoor, Matthew Worden, Noah Zisser, Dhruv Muley <br>\n",
    "    <i> Department of Physics, University of California, Berkeley </i>\n",
    "    <br><br>\n",
    "    Final project for Physics C191, Spring 2019 <br>\n",
    "    due 15 May 2019 at 11:59\n",
    "    "
   ]
  },
  {
   "cell_type": "markdown",
   "metadata": {},
   "source": [
    "### Introduction\n",
    "\n",
    "All coherent quantum systems interact with their environment, and are well known to decohere through Markovian dissipation processes that are modeled with a Limbladian operator. In this memoryless process, information flows irreversibly from the system to the environment. However, some physical systems exhibit a correlation time between the qubit and the environment, such as when the noise spectrum of the surrounding environment is narrow, as opposed to a broad, white noise spectrum, or when the system couples to transient radiation fields. In this case, the system can experience a resurgence in coherence from information backflow from the environment (also commonly referred to as the bath) to the system after finite times. <br>\n",
    "The stochastic wavefunction method is often used to model the time-evolution of open quantum systems, while the quantum circuit model is often used to model the transformation of the density matrices under discrete quantum transforamtions. For our final project, we use the quantum circuit model to simulate persistent-bath non-Markovian interactions between <i> system qubits </i> on which quantum algorithms were being performed and <i> environment qubits </i>. This configuration has many analogues to physical systems; the one that is focused on here is an ensemble of point defects whose electromagnetic field, originating from the binary orientation of the spins, each Stark shifts the frequency of each system flux-qubit via a ZZ-interaction, resulting in phase accumulation. The bath point defenct qubits occur unintentionally in the material of the superconducting circuit or the Josephson junctions that compose the system flux qubit, or the substrate on which the latter rests. The bath qubits exchange population between themselves and are governed by a XX+YY Hamiltonian, meaning the system-bath and bath-bath dynamics don't commute. \n"
   ]
  },
  {
   "cell_type": "markdown",
   "metadata": {},
   "source": [
    "<img src=\"figures/fig0.png\" alt=\"Drawing\" style=\"width: 700px;\"/>"
   ]
  },
  {
   "cell_type": "markdown",
   "metadata": {},
   "source": [
    "We model the non-Markovian persistent bath as a coherent ensemble of qubits that do not decay, and are a closed system themselves when viewed from outside of the environment. This means that quantum coherent information is transfered from the system to the bath via the ZZ interaction and distributed between the bath qubits via the XX+YY interaction. The noise that the system experiences at a later time will contain quantum coherent information of it's state at an earlier time, thus meeting the non-Markovian condition for a persistent-bath. The Markovian bath, on the other hand, loses information via dissipation to other bath elements such that the system information thermalizes to such a high number of elements that the information content in any of the point defect states is negligible."
   ]
  },
  {
   "cell_type": "markdown",
   "metadata": {},
   "source": [
    "### Cirq"
   ]
  },
  {
   "cell_type": "markdown",
   "metadata": {},
   "source": [
    "The classical simulation package used is Google's Cirq. Access the terminal or command line to check that it is installed before importing it."
   ]
  },
  {
   "cell_type": "code",
   "execution_count": 13,
   "metadata": {},
   "outputs": [
    {
     "name": "stdout",
     "output_type": "stream",
     "text": [
      "Requirement already satisfied: cirq in c:\\python37\\lib\\site-packages (0.5.0)\n",
      "Requirement already satisfied: protobuf~=3.5 in c:\\python37\\lib\\site-packages (from cirq) (3.7.0)\n",
      "Requirement already satisfied: networkx~=2.1 in c:\\python37\\lib\\site-packages (from cirq) (2.2)\n",
      "Requirement already satisfied: scipy in c:\\python37\\lib\\site-packages (from cirq) (1.2.0)\n",
      "Requirement already satisfied: typing-extensions in c:\\python37\\lib\\site-packages (from cirq) (3.7.2)\n",
      "Requirement already satisfied: sortedcontainers~=2.0 in c:\\python37\\lib\\site-packages (from cirq) (2.1.0)\n",
      "Requirement already satisfied: numpy~=1.12 in c:\\python37\\lib\\site-packages (from cirq) (1.16.1)\n",
      "Requirement already satisfied: google-api-python-client~=1.6 in c:\\python37\\lib\\site-packages (from cirq) (1.7.8)\n",
      "Requirement already satisfied: sympy in c:\\python37\\lib\\site-packages (from cirq) (1.4)\n",
      "Requirement already satisfied: matplotlib~=2.2 in c:\\python37\\lib\\site-packages (from cirq) (2.2.4)\n",
      "Requirement already satisfied: requests~=2.18 in c:\\python37\\lib\\site-packages (from cirq) (2.21.0)\n",
      "Requirement already satisfied: six>=1.9 in c:\\python37\\lib\\site-packages (from protobuf~=3.5->cirq) (1.12.0)\n",
      "Requirement already satisfied: setuptools in c:\\python37\\lib\\site-packages (from protobuf~=3.5->cirq) (40.6.2)\n",
      "Requirement already satisfied: decorator>=4.3.0 in c:\\python37\\lib\\site-packages (from networkx~=2.1->cirq) (4.3.2)\n",
      "Requirement already satisfied: httplib2<1dev,>=0.9.2 in c:\\python37\\lib\\site-packages (from google-api-python-client~=1.6->cirq) (0.12.1)\n",
      "Requirement already satisfied: uritemplate<4dev,>=3.0.0 in c:\\python37\\lib\\site-packages (from google-api-python-client~=1.6->cirq) (3.0.0)\n",
      "Requirement already satisfied: google-auth>=1.4.1 in c:\\python37\\lib\\site-packages (from google-api-python-client~=1.6->cirq) (1.6.3)\n",
      "Requirement already satisfied: google-auth-httplib2>=0.0.3 in c:\\python37\\lib\\site-packages (from google-api-python-client~=1.6->cirq) (0.0.3)\n",
      "Requirement already satisfied: mpmath>=0.19 in c:\\python37\\lib\\site-packages (from sympy->cirq) (1.1.0)\n",
      "Requirement already satisfied: python-dateutil>=2.1 in c:\\python37\\lib\\site-packages (from matplotlib~=2.2->cirq) (2.7.5)\n",
      "Requirement already satisfied: cycler>=0.10 in c:\\python37\\lib\\site-packages (from matplotlib~=2.2->cirq) (0.10.0)\n",
      "Requirement already satisfied: pyparsing!=2.0.4,!=2.1.2,!=2.1.6,>=2.0.1 in c:\\python37\\lib\\site-packages (from matplotlib~=2.2->cirq) (2.3.1)\n",
      "Requirement already satisfied: kiwisolver>=1.0.1 in c:\\python37\\lib\\site-packages (from matplotlib~=2.2->cirq) (1.0.1)\n",
      "Requirement already satisfied: pytz in c:\\python37\\lib\\site-packages (from matplotlib~=2.2->cirq) (2018.9)\n",
      "Requirement already satisfied: idna<2.9,>=2.5 in c:\\python37\\lib\\site-packages (from requests~=2.18->cirq) (2.8)\n",
      "Requirement already satisfied: certifi>=2017.4.17 in c:\\python37\\lib\\site-packages (from requests~=2.18->cirq) (2019.3.9)\n",
      "Requirement already satisfied: chardet<3.1.0,>=3.0.2 in c:\\python37\\lib\\site-packages (from requests~=2.18->cirq) (3.0.4)\n",
      "Requirement already satisfied: urllib3<1.25,>=1.21.1 in c:\\python37\\lib\\site-packages (from requests~=2.18->cirq) (1.24.1)\n",
      "Requirement already satisfied: cachetools>=2.0.0 in c:\\python37\\lib\\site-packages (from google-auth>=1.4.1->google-api-python-client~=1.6->cirq) (3.1.0)\n",
      "Requirement already satisfied: rsa>=3.1.4 in c:\\python37\\lib\\site-packages (from google-auth>=1.4.1->google-api-python-client~=1.6->cirq) (4.0)\n",
      "Requirement already satisfied: pyasn1-modules>=0.2.1 in c:\\python37\\lib\\site-packages (from google-auth>=1.4.1->google-api-python-client~=1.6->cirq) (0.2.4)\n",
      "Requirement already satisfied: pyasn1>=0.1.3 in c:\\python37\\lib\\site-packages (from rsa>=3.1.4->google-auth>=1.4.1->google-api-python-client~=1.6->cirq) (0.4.5)\n"
     ]
    }
   ],
   "source": [
    "!pip install cirq"
   ]
  },
  {
   "cell_type": "code",
   "execution_count": 7,
   "metadata": {},
   "outputs": [
    {
     "name": "stdout",
     "output_type": "stream",
     "text": [
      "(0, 0)───(0, 1)───(0, 2)───(0, 3)───(0, 4)───(0, 5)───(0, 6)───(0, 7)───(0, 8)───(0, 9)───(0, 10)\n",
      "│        │        │        │        │        │        │        │        │        │        │\n",
      "│        │        │        │        │        │        │        │        │        │        │\n",
      "(1, 0)───(1, 1)───(1, 2)───(1, 3)───(1, 4)───(1, 5)───(1, 6)───(1, 7)───(1, 8)───(1, 9)───(1, 10)\n"
     ]
    }
   ],
   "source": [
    "import cirq\n",
    "print(cirq.google.Foxtail)  # prints a test qubit graph to check that cirq is working"
   ]
  },
  {
   "cell_type": "markdown",
   "metadata": {},
   "source": [
    "From the Cirq developers: <br>\n",
    "<i> \"Be aware that Cirq is still alpha software, meaning we are still making breaking changes all the time. If you don't want your project to suddenly go from working to not working when we release a new version, you should depend on a specific version of Cirq and periodically bump that version to the latest one.\" </i> <br><br>\n",
    "We follow their advice and use <b> Cirq 0.5.0 </b> for this project."
   ]
  },
  {
   "cell_type": "code",
   "execution_count": 14,
   "metadata": {},
   "outputs": [
    {
     "name": "stdout",
     "output_type": "stream",
     "text": [
      "0.5.0\n"
     ]
    }
   ],
   "source": [
    "print(cirq.__version__)"
   ]
  },
  {
   "cell_type": "markdown",
   "metadata": {},
   "source": [
    "### The <tt> Grover's </tt> class"
   ]
  },
  {
   "cell_type": "code",
   "execution_count": 15,
   "metadata": {},
   "outputs": [
    {
     "ename": "ModuleNotFoundError",
     "evalue": "No module named 'gates'",
     "output_type": "error",
     "traceback": [
      "\u001b[1;31m---------------------------------------------------------------------------\u001b[0m",
      "\u001b[1;31mModuleNotFoundError\u001b[0m                       Traceback (most recent call last)",
      "\u001b[1;32m<ipython-input-15-e536bf6b3e50>\u001b[0m in \u001b[0;36m<module>\u001b[1;34m\u001b[0m\n\u001b[0;32m     17\u001b[0m \u001b[1;32mimport\u001b[0m \u001b[0mrandom\u001b[0m\u001b[1;33m\u001b[0m\u001b[1;33m\u001b[0m\u001b[0m\n\u001b[0;32m     18\u001b[0m \u001b[1;32mimport\u001b[0m \u001b[0mtime\u001b[0m\u001b[1;33m\u001b[0m\u001b[1;33m\u001b[0m\u001b[0m\n\u001b[1;32m---> 19\u001b[1;33m \u001b[1;32mimport\u001b[0m \u001b[0mgates\u001b[0m\u001b[1;33m\u001b[0m\u001b[1;33m\u001b[0m\u001b[0m\n\u001b[0m\u001b[0;32m     20\u001b[0m \u001b[1;32mimport\u001b[0m \u001b[0mcoupling_dict\u001b[0m \u001b[1;32mas\u001b[0m \u001b[0mcdict\u001b[0m\u001b[1;33m\u001b[0m\u001b[1;33m\u001b[0m\u001b[0m\n\u001b[0;32m     21\u001b[0m \u001b[1;33m\u001b[0m\u001b[0m\n",
      "\u001b[1;31mModuleNotFoundError\u001b[0m: No module named 'gates'"
     ]
    }
   ],
   "source": []
  },
  {
   "cell_type": "code",
   "execution_count": null,
   "metadata": {},
   "outputs": [],
   "source": []
  }
 ],
 "metadata": {
  "kernelspec": {
   "display_name": "Python 3",
   "language": "python",
   "name": "python3"
  },
  "language_info": {
   "codemirror_mode": {
    "name": "ipython",
    "version": 3
   },
   "file_extension": ".py",
   "mimetype": "text/x-python",
   "name": "python",
   "nbconvert_exporter": "python",
   "pygments_lexer": "ipython3",
   "version": "3.7.2"
  }
 },
 "nbformat": 4,
 "nbformat_minor": 2
}
