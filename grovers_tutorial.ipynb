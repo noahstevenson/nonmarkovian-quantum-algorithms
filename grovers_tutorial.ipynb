{
 "cells": [
  {
   "cell_type": "markdown",
   "metadata": {},
   "source": [
    "Outline: <br>\n",
    "Intro to some basics of modelling open quantum systems: drawing of our qubit model with little field lines, printing a circuit of grover's algorithm, what basecase grover's looks like, printing grover's algorithm with a single bath qubit do show what the interactions look like, printing a circuit with two bath qubits to show what bath-bath interactions look like\n",
    "basic results with grovers: 2system2bath: can change the coupling strength: what does this do? \n",
    "Include some theory of grover's algorithm before going into cirq\n",
    "At the end, explain our limitations and where we are intersted in taking this project, given more time"
   ]
  },
  {
   "cell_type": "markdown",
   "metadata": {},
   "source": [
    "# Impact of non-Markovian environments on quantum algorithm performance"
   ]
  },
  {
   "cell_type": "markdown",
   "metadata": {},
   "source": [
    "<center> \n",
    "Noah Stevenson, Keshav Kapoor, Matthew Worden, Noah Zisser, Dhruv Muley <br>\n",
    "    <i> Department of Physics, University of California, Berkeley </i>\n",
    "    <br><br>\n",
    "    Final project for Physics C191, Spring 2019 <br>\n",
    "    due 15 May 2019 at 11:59\n",
    "    "
   ]
  },
  {
   "cell_type": "markdown",
   "metadata": {},
   "source": [
    "### Introduction\n",
    "\n",
    "All coherent quantum systems interact with their environment, and are well known to decohere through Markovian dissipation processes that are modeled with a Limbladian operator. In this memoryless process, information flows irreversibly from the system to the environment. However, some physical systems exhibit a correlation time between the qubit and the environment, such as when the noise spectrum of the surrounding environment is narrow, as opposed to a broad, white noise spectrum, or when the system couples to transient radiation fields. In this case, the system can experience a resurgence in coherence from information backflow from the environment (also commonly referred to as the bath) to the system after finite times. <br>\n",
    "The stochastic wavefunction method is often used to model the time-evolution of open quantum systems, while the quantum circuit model is often used to model the transformation of the density matrices under discrete quantum transforamtions. For our final project, we use the quantum circuit model to simulate persistent-bath non-Markovian interactions between <i> system qubits </i> on which quantum algorithms were being performed and <i> environment qubits </i>. This configuration has many analogues to physical systems; the one that is focused on here is an ensemble of point defects whose electromagnetic field, originating from the binary orientation of the spins, each Stark shifts the frequency of each system flux-qubit via a ZZ-interaction, resulting in phase accumulation. The bath point defenct qubits occur unintentionally in the material of the superconducting circuit or the Josephson junctions that compose the system flux qubit, or the substrate on which the latter rests. The bath qubits exchange population between themselves and are governed by a XX+YY Hamiltonian, meaning the system-bath and bath-bath dynamics don't commute. \n"
   ]
  },
  {
   "cell_type": "markdown",
   "metadata": {},
   "source": [
    "<img src=\"figures/fig0.png\" alt=\"Drawing\" style=\"width: 700px;\"/>"
   ]
  },
  {
   "cell_type": "markdown",
   "metadata": {},
   "source": [
    "We model the non-Markovian persistent bath as a coherent ensemble of qubits that do not decay, and are a closed system themselves when viewed from outside of the environment. This means that quantum coherent information is transfered from the system to the bath via the ZZ interaction and distributed between the bath qubits via the XX+YY interaction. The noise that the system experiences at a later time will contain quantum coherent information of it's state at an earlier time, thus meeting the non-Markovian condition for a persistent-bath. The Markovian bath, on the other hand, loses information via dissipation to other bath elements such that the system information thermalizes to such a high number of elements that the information content in any of the point defect states is negligible."
   ]
  },
  {
   "cell_type": "markdown",
   "metadata": {},
   "source": [
    "### Cirq"
   ]
  },
  {
   "cell_type": "markdown",
   "metadata": {},
   "source": [
    "The classical simulation package used is Google's Cirq. Access the terminal or command line to check that it is installed before importing it."
   ]
  },
  {
   "cell_type": "code",
   "execution_count": 13,
   "metadata": {},
   "outputs": [
    {
     "name": "stdout",
     "output_type": "stream",
     "text": [
      "Requirement already satisfied: cirq in c:\\python37\\lib\\site-packages (0.5.0)\n",
      "Requirement already satisfied: protobuf~=3.5 in c:\\python37\\lib\\site-packages (from cirq) (3.7.0)\n",
      "Requirement already satisfied: networkx~=2.1 in c:\\python37\\lib\\site-packages (from cirq) (2.2)\n",
      "Requirement already satisfied: scipy in c:\\python37\\lib\\site-packages (from cirq) (1.2.0)\n",
      "Requirement already satisfied: typing-extensions in c:\\python37\\lib\\site-packages (from cirq) (3.7.2)\n",
      "Requirement already satisfied: sortedcontainers~=2.0 in c:\\python37\\lib\\site-packages (from cirq) (2.1.0)\n",
      "Requirement already satisfied: numpy~=1.12 in c:\\python37\\lib\\site-packages (from cirq) (1.16.1)\n",
      "Requirement already satisfied: google-api-python-client~=1.6 in c:\\python37\\lib\\site-packages (from cirq) (1.7.8)\n",
      "Requirement already satisfied: sympy in c:\\python37\\lib\\site-packages (from cirq) (1.4)\n",
      "Requirement already satisfied: matplotlib~=2.2 in c:\\python37\\lib\\site-packages (from cirq) (2.2.4)\n",
      "Requirement already satisfied: requests~=2.18 in c:\\python37\\lib\\site-packages (from cirq) (2.21.0)\n",
      "Requirement already satisfied: six>=1.9 in c:\\python37\\lib\\site-packages (from protobuf~=3.5->cirq) (1.12.0)\n",
      "Requirement already satisfied: setuptools in c:\\python37\\lib\\site-packages (from protobuf~=3.5->cirq) (40.6.2)\n",
      "Requirement already satisfied: decorator>=4.3.0 in c:\\python37\\lib\\site-packages (from networkx~=2.1->cirq) (4.3.2)\n",
      "Requirement already satisfied: httplib2<1dev,>=0.9.2 in c:\\python37\\lib\\site-packages (from google-api-python-client~=1.6->cirq) (0.12.1)\n",
      "Requirement already satisfied: uritemplate<4dev,>=3.0.0 in c:\\python37\\lib\\site-packages (from google-api-python-client~=1.6->cirq) (3.0.0)\n",
      "Requirement already satisfied: google-auth>=1.4.1 in c:\\python37\\lib\\site-packages (from google-api-python-client~=1.6->cirq) (1.6.3)\n",
      "Requirement already satisfied: google-auth-httplib2>=0.0.3 in c:\\python37\\lib\\site-packages (from google-api-python-client~=1.6->cirq) (0.0.3)\n",
      "Requirement already satisfied: mpmath>=0.19 in c:\\python37\\lib\\site-packages (from sympy->cirq) (1.1.0)\n",
      "Requirement already satisfied: python-dateutil>=2.1 in c:\\python37\\lib\\site-packages (from matplotlib~=2.2->cirq) (2.7.5)\n",
      "Requirement already satisfied: cycler>=0.10 in c:\\python37\\lib\\site-packages (from matplotlib~=2.2->cirq) (0.10.0)\n",
      "Requirement already satisfied: pyparsing!=2.0.4,!=2.1.2,!=2.1.6,>=2.0.1 in c:\\python37\\lib\\site-packages (from matplotlib~=2.2->cirq) (2.3.1)\n",
      "Requirement already satisfied: kiwisolver>=1.0.1 in c:\\python37\\lib\\site-packages (from matplotlib~=2.2->cirq) (1.0.1)\n",
      "Requirement already satisfied: pytz in c:\\python37\\lib\\site-packages (from matplotlib~=2.2->cirq) (2018.9)\n",
      "Requirement already satisfied: idna<2.9,>=2.5 in c:\\python37\\lib\\site-packages (from requests~=2.18->cirq) (2.8)\n",
      "Requirement already satisfied: certifi>=2017.4.17 in c:\\python37\\lib\\site-packages (from requests~=2.18->cirq) (2019.3.9)\n",
      "Requirement already satisfied: chardet<3.1.0,>=3.0.2 in c:\\python37\\lib\\site-packages (from requests~=2.18->cirq) (3.0.4)\n",
      "Requirement already satisfied: urllib3<1.25,>=1.21.1 in c:\\python37\\lib\\site-packages (from requests~=2.18->cirq) (1.24.1)\n",
      "Requirement already satisfied: cachetools>=2.0.0 in c:\\python37\\lib\\site-packages (from google-auth>=1.4.1->google-api-python-client~=1.6->cirq) (3.1.0)\n",
      "Requirement already satisfied: rsa>=3.1.4 in c:\\python37\\lib\\site-packages (from google-auth>=1.4.1->google-api-python-client~=1.6->cirq) (4.0)\n",
      "Requirement already satisfied: pyasn1-modules>=0.2.1 in c:\\python37\\lib\\site-packages (from google-auth>=1.4.1->google-api-python-client~=1.6->cirq) (0.2.4)\n",
      "Requirement already satisfied: pyasn1>=0.1.3 in c:\\python37\\lib\\site-packages (from rsa>=3.1.4->google-auth>=1.4.1->google-api-python-client~=1.6->cirq) (0.4.5)\n"
     ]
    }
   ],
   "source": [
    "!pip install cirq"
   ]
  },
  {
   "cell_type": "code",
   "execution_count": 7,
   "metadata": {},
   "outputs": [
    {
     "name": "stdout",
     "output_type": "stream",
     "text": [
      "(0, 0)───(0, 1)───(0, 2)───(0, 3)───(0, 4)───(0, 5)───(0, 6)───(0, 7)───(0, 8)───(0, 9)───(0, 10)\n",
      "│        │        │        │        │        │        │        │        │        │        │\n",
      "│        │        │        │        │        │        │        │        │        │        │\n",
      "(1, 0)───(1, 1)───(1, 2)───(1, 3)───(1, 4)───(1, 5)───(1, 6)───(1, 7)───(1, 8)───(1, 9)───(1, 10)\n"
     ]
    }
   ],
   "source": [
    "import cirq\n",
    "print(cirq.google.Foxtail)  # prints a test qubit graph to check that cirq is working"
   ]
  },
  {
   "cell_type": "markdown",
   "metadata": {},
   "source": [
    "From the Cirq developers: <br>\n",
    "<i> \"Be aware that Cirq is still alpha software, meaning we are still making breaking changes all the time. If you don't want your project to suddenly go from working to not working when we release a new version, you should depend on a specific version of Cirq and periodically bump that version to the latest one.\" </i> <br><br>\n",
    "We follow their advice and use <b> Cirq 0.5.0 </b> for this project."
   ]
  },
  {
   "cell_type": "code",
   "execution_count": 14,
   "metadata": {},
   "outputs": [
    {
     "name": "stdout",
     "output_type": "stream",
     "text": [
      "0.5.0\n"
     ]
    }
   ],
   "source": [
    "print(cirq.__version__)"
   ]
  },
  {
   "cell_type": "markdown",
   "metadata": {},
   "source": [
    "### Grover's algorithm"
   ]
  },
  {
   "cell_type": "markdown",
   "metadata": {},
   "source": [
    "We use the Boolean Grover's instead of the Phase Grover's"
   ]
  },
  {
   "cell_type": "markdown",
   "metadata": {},
   "source": [
    "### Simulation structure"
   ]
  },
  {
   "cell_type": "markdown",
   "metadata": {},
   "source": [
    "We take advantage of the modularity of object-oriented programming in Python for the spine of our simulation structure, which doesn't lend itself to Jupyter notebooks. Nonetheless, this section briefly sketches out the backend used for the simulations. The compilation and simulation of the algorithm on the system and bath qubits takes place in the method <tt>main_oqs </tt> of the class <tt> Grovers </tt> in <tt> grovers_flux_qubit.py </tt> "
   ]
  },
  {
   "cell_type": "raw",
   "metadata": {},
   "source": [
    "class Grovers:\n",
    "    \n",
    "    ...\n",
    "\n",
    "    def main_oqs(self, target=3, n_computation_qubits=2, n_bath_qubits=3, n_iterations=1, n_simulations=1000,\n",
    "                 amplitude_damping_constant=0, bath_type='Markovian', prob_ground=1, print_runtime=False,\n",
    "                 print_prob_correct=False):\n",
    "        \"\"\" Runs Grover's algorithm on (n_computation_qubits)-qubits \"\"\"\n",
    "\n",
    "        _start_ = time.time()  # for recording runtime\n",
    "\n",
    "        self.target = target\n",
    "        self.n_computation_qubits = n_computation_qubits\n",
    "        self.n_bath_qubits = n_bath_qubits\n",
    "        self.n_iterations = n_iterations\n",
    "        self.n_simulations = n_simulations\n",
    "        self.amplitude_damping_constant = amplitude_damping_constant\n",
    "        self.bath_type = bath_type\n",
    "        self.prob_ground = prob_ground\n",
    "\n",
    "        counter = 0  # counts number of successful outcomes\n",
    "\n",
    "        self.computation_qubits, self.oracle_qubit = self.set_io_qubits()  # Set up input and output qubits.\n",
    "        _simulator_ = cirq.DensityMatrixSimulator()  # initialize simulator\n",
    "\n",
    "        for i in range(n_simulations):\n",
    "\n",
    "            # compile a quantum circuit for Grover's algorithm each time to set \\\n",
    "            # different qubits according to partition function\n",
    "            self.c = self.make_grover_circuit_oqs()\n",
    "            _result_ = _simulator_.run(self.c, repetitions=1)  # run the simulation\n",
    "            _hist_ = _result_.histogram(key='result')\n",
    "            counter += _hist_[self.target]  # check if the circuit results in the desired outcome\n",
    "\n",
    "        prob_correct = counter/self.n_simulations  # covert raw outcomes to probability\n",
    "\n",
    "        if print_prob_correct: print(prob_correct)\n",
    "        _stop_ = time.time()\n",
    "\n",
    "        if print_runtime: print(f'\\n runtime: {str(_stop_-_start_)[:5]} seconds')\n",
    "\n",
    "        return prob_correct"
   ]
  },
  {
   "cell_type": "markdown",
   "metadata": {},
   "source": [
    "Let us walk through this method to see how the simulation is structured. First, the arguments of the method are assigned to the class attributes. <br><br>\n",
    "\n",
    "<tt>self.target = target</tt> : The target integer that Grover's algorithm searches for. <br>\n",
    "<tt>self.n_computation_qubits = n_computation_qubits</tt> : The number of computation qubits to use, not including the ancilla qubit.  <br>\n",
    "<tt>self.n_bath_qubits = n_bath_qubits</tt> : The number of bath qubits. <br>\n",
    "<tt>self.n_iterations = n_iterations</tt> : The number of times the oracle-diffusion step of Grover's algorithm is repeated before measurement. <br>\n",
    "<tt>self.n_simulations = n_simulations</tt> : The number of times the circuit defined by the number of qubits, the number of iteration, and the target integer, is run. <br>\n",
    "<tt>self.bath_type = bath_type</tt> : Defines whether the bath is <tt> 'Markovian'</tt> or <tt> 'non-Markovian'. </tt> <br>  <tt>self.prob_ground = prob_ground </tt> : The manual input of the probability that, after initialization, a qubit is found in the ground state. This is relevant for the initial initialization of the non-Markovian bath, and for setting the state of the qubit after decay causes population loss for the Markovian bath. The outcome for the partition function for a certain temperature and superconducting qubit state frequencies are calculated in <tt> partition_function.nb </tt> and inputted manually.  <br> \n",
    "\n",
    "\n",
    "The qubits are defined with the method <tt> set_io_qubits </tt> just before the Cirq simulator is defined."
   ]
  },
  {
   "cell_type": "raw",
   "metadata": {},
   "source": [
    "    def set_io_qubits(self):\n",
    "        \"\"\" Adds n=n_computation_qubits number of input qubits, one output qubit\"\"\"\n",
    "\n",
    "        self.computation_qubits = [cirq.GridQubit(i, 0) for i in range(self.n_computation_qubits)]\n",
    "        self.oracle_qubit = cirq.GridQubit(self.n_computation_qubits, 0)\n",
    "        self.bath_qubits = [cirq.GridQubit(i, 0) for i in range(self.n_computation_qubits + 1,\n",
    "                                                                self.n_computation_qubits + self.n_bath_qubits + 1)]\n",
    "        return self.computation_qubits, self.oracle_qubit"
   ]
  },
  {
   "cell_type": "markdown",
   "metadata": {},
   "source": [
    "Then, for each time the simulation is repeated (<tt> n_simulations </tt>), Grover's circuit is compiled, run once, and <tt> counter </tt> increased by one if the measurement outcome matches the target. The heart of the simulation is in <tt> make_grovers_circuit_oqs </tt>"
   ]
  },
  {
   "cell_type": "raw",
   "metadata": {},
   "source": [
    "   def make_grover_circuit_oqs(self):\n",
    "        \"\"\" Assembles the circuit for Grover's algorithm \"\"\"\n",
    "\n",
    "        # define empty circuit\n",
    "        self.c = cirq.Circuit()\n",
    "\n",
    "        # setting the oracle qubit to 1 before applying H\n",
    "        self.c.append(cirq.X.on(self.oracle_qubit))\n",
    "\n",
    "        # Thermally initialize bath qubits according to the partition function\n",
    "        self.partition_function(operation='Append')\n",
    "\n",
    "        # Initial Walsh-Hadamard transform\n",
    "        self.c.append(cirq.H.on_each(*self.computation_qubits, self.oracle_qubit))\n",
    "\n",
    "        # Repeat n_iterations of Grover's\n",
    "        for _ in itertools.repeat(None, self.n_iterations):\n",
    "            self.grovers_step_oqs()\n",
    "\n",
    "        # Hadamard the oracle at the end; this may be to uncompute it. From Box 6.1 of Nielsen and Chuang\n",
    "        self.c.append(cirq.H.on(self.oracle_qubit))\n",
    "\n",
    "        # Measure the result.\n",
    "        self.c.append(cirq.measure(*self.computation_qubits, key='result'))\n",
    "\n",
    "        return self.c"
   ]
  },
  {
   "cell_type": "markdown",
   "metadata": {},
   "source": [
    "The system-bath and bath-bath interactions are defined in <tt> grovers_step_oqs </tt> as taking place before the oracle and diffusion operators. "
   ]
  },
  {
   "cell_type": "raw",
   "metadata": {},
   "source": [
    "    def grovers_step_oqs(self):\n",
    "        \"\"\"\n",
    "\n",
    "        Adds one iteration of Grover's algorithm to the circuit.\n",
    "        This is in the style of Keshav and Matt's circuit, as opposed to more frequent interactions.\n",
    "        oqs stands for \"open quantum system\"\n",
    "\n",
    "        \"\"\"\n",
    "\n",
    "        # oqs\n",
    "        self.bath_append()\n",
    "\n",
    "        # Boolean oracle from ArXiV[1703.10535]\n",
    "        self.append_oracle()\n",
    "\n",
    "        # oqs\n",
    "        self.bath_append()\n",
    "\n",
    "        # diffusion operator\n",
    "        self.c.append(cirq.H.on_each(*self.computation_qubits))\n",
    "        self.c.append(cirq.X.on_each(*self.computation_qubits))\n",
    "        ncz = cirq.ControlledGate(cirq.Z,\n",
    "                                  num_controls=self.n_computation_qubits - 1)  # phase flip gate; ncz => n-controlled Z\n",
    "        self.c.append(ncz.on(*self.computation_qubits))\n",
    "        self.c.append(cirq.X.on_each(*self.computation_qubits))\n",
    "        self.c.append(cirq.H.on_each(*self.computation_qubits))\n",
    "\n",
    "        # loss from the bath and reinitialization\n",
    "        if self.bath_type == 'Markovian':\n",
    "\n",
    "            # Dissipative dynamics\n",
    "            self.c.append(cirq.AmplitudeDampingChannel(gamma=1).on_each(*self.bath_qubits), strategy=cirq.InsertStrategy.NEW)\n",
    "            self.partition_function(operation=\"Append\")\n",
    "\n",
    "        elif self.bath_type == 'non-Markovian':\n",
    "            pass\n",
    "        else:\n",
    "            raise TypeError(\n",
    "                \"bath_type must be either \\\"Markovian\\\" or \\\"non-Markovian\\\", not \\\"{0}\\\" \".format(self.bath_type))"
   ]
  },
  {
   "cell_type": "markdown",
   "metadata": {},
   "source": [
    "The way the interactions described earlier are implemented can be seen if we look at <tt> bath_append </tt>: "
   ]
  },
  {
   "cell_type": "raw",
   "metadata": {},
   "source": [
    "    def bath_append(self):\n",
    "        \"\"\" Append system-bath and bath-bath interactions at a single moment\"\"\"\n",
    "\n",
    "        system_qubits = self.computation_qubits + [self.oracle_qubit]\n",
    "\n",
    "        # get coupling strength from coupling_dict dictionary\n",
    "        self.generate_couplings_dict()\n",
    "        system_bath_zz = gates.ZZ(theta=self.coupling_dict['SB_ZZ'])\n",
    "        bath_bath_xx_yy = gates.XX_YY(xx_theta=self.coupling_dict['BB_XX'], yy_theta=self.coupling_dict['BB_YY'])\n",
    "\n",
    "        for bq, bath_qubit in enumerate(self.bath_qubits):\n",
    "\n",
    "            # system-bath coupling\n",
    "            for system_qubit in system_qubits:\n",
    "                self.c.append(system_bath_zz.on(bath_qubit, system_qubit))\n",
    "\n",
    "            # bath-bath coupling\n",
    "            for other_bath_qubit in np.delete(self.bath_qubits, bq):\n",
    "                self.c.append(bath_bath_xx_yy.on(bath_qubit, other_bath_qubit))"
   ]
  },
  {
   "cell_type": "markdown",
   "metadata": {},
   "source": [
    "The method calls to a dictionary that holds the coupling strength for each coupling type, located in <tt> coupling_dict.py </tt> and then creates the unitaries that represent the system-bath and bath-bath couplings by calling to the models in <tt>gates.py </tt>. The appropriate unitaries are then appended to the circuit for each qubit."
   ]
  },
  {
   "cell_type": "markdown",
   "metadata": {},
   "source": [
    "<b> coupling_dict.py"
   ]
  },
  {
   "cell_type": "raw",
   "metadata": {},
   "source": [
    "import numpy as np\n",
    "\n",
    "# TODO: expand this to include individual system-bath coupling thetas\n",
    "\n",
    "coupling_dict = {\n",
    "    'SB_ZZ': np.pi / 40,\n",
    "    'SB_XX': np.pi / 40,\n",
    "    'SB_YY': np.pi / 40,\n",
    "    'BB_ZZ': np.pi / 10,\n",
    "    'BB_XX': np.pi / 5,\n",
    "    'BB_YY': np.pi / 5,\n",
    "}\n"
   ]
  },
  {
   "cell_type": "markdown",
   "metadata": {},
   "source": [
    "<b> gates.py"
   ]
  },
  {
   "cell_type": "raw",
   "metadata": {},
   "source": [
    "import numpy as np\n",
    "import cirq\n",
    "\n",
    "\n",
    "class ZZ(cirq.TwoQubitGate):\n",
    "\n",
    "    def __init__(self, theta):\n",
    "        self.theta = theta\n",
    "\n",
    "    def _unitary_(self):\n",
    "        return np.array([\n",
    "            [np.exp(1j * self.theta / 2), 0, 0, 0],\n",
    "            [0, np.exp(-1j * self.theta / 2), 0, 0],\n",
    "            [0, 0, np.exp(-1j * self.theta / 2), 0],\n",
    "            [0, 0, 0, np.exp(1j * self.theta / 2)]\n",
    "        ])\n",
    "\n",
    "    def _circuit_diagram_info_(self, args):\n",
    "        return f'ZZ({str(self.theta)[:5]})', f'ZZ({str(self.theta)[:5]})'\n",
    "\n",
    "\n",
    "class XX(cirq.TwoQubitGate):\n",
    "\n",
    "    def __init__(self, theta):\n",
    "        self.theta = theta\n",
    "\n",
    "    def _unitary_(self):\n",
    "        return (2 ** (-1 / 2)) * np.array([\n",
    "            [1, 0, 0, np.exp(1j * (self.theta - np.pi / 2))],\n",
    "            [0, 1, -1j, 0],\n",
    "            [0, -1j, 1, 0],\n",
    "            [np.exp(1j * (-self.theta - np.pi / 2)), 0, 0, 1]\n",
    "        ])\n",
    "\n",
    "    def _circuit_diagram_info_(self, args):\n",
    "        return f'XX({str(self.theta)[:5]})', f'XX({str(self.theta)[:5]})'\n",
    "\n",
    "\n",
    "class YY(cirq.TwoQubitGate):\n",
    "\n",
    "    def __init__(self, theta):\n",
    "        self.theta = theta\n",
    "\n",
    "    def _unitary_(self):\n",
    "        return np.array([\n",
    "            [np.cos(self.theta), 0, 0, 1j * np.sin(self.theta)],\n",
    "            [0, np.cos(self.theta), -1j * np.sin(self.theta), 0],\n",
    "            [0, -1j * np.sin(self.theta), np.cos(self.theta), 0],\n",
    "            [1j * np.sin(self.theta), 0, 0, np.cos(self.theta)]\n",
    "        ])\n",
    "\n",
    "    def _circuit_diagram_info_(self, args):\n",
    "        return f'YY({str(self.theta)[:5]})', f'YY({str(self.theta)[:5]})'\n",
    "\n",
    "\n",
    "class XX_YY(cirq.TwoQubitGate):\n",
    "\n",
    "    def __init__(self, xx_theta, yy_theta):\n",
    "        self.xx_theta = xx_theta\n",
    "        self.yy_theta = yy_theta\n",
    "\n",
    "    def _unitary_(self):\n",
    "        _xx_yy_ = \\\n",
    "            np.array([\n",
    "            [np.cos(self.yy_theta), 0, 0, 1j * np.sin(self.yy_theta)],\n",
    "            [0, np.cos(self.yy_theta), -1j * np.sin(self.yy_theta), 0],\n",
    "            [0, -1j * np.sin(self.yy_theta), np.cos(self.yy_theta), 0],\n",
    "            [1j * np.sin(self.yy_theta), 0, 0, np.cos(self.yy_theta)]\n",
    "        ])\\\n",
    "            + \\\n",
    "            (2 ** (-1 / 2)) * np.array([\n",
    "            [1, 0, 0, np.exp(1j * (self.xx_theta - np.pi / 2))],\n",
    "            [0, 1, -1j, 0],\n",
    "            [0, -1j, 1, 0],\n",
    "            [np.exp(1j * (-self.xx_theta - np.pi / 2)), 0, 0, 1]\n",
    "        ])\n",
    "        return 2*(_xx_yy_/np.linalg.norm(_xx_yy_))\n",
    "\n",
    "    def _circuit_diagram_info_(self, args):\n",
    "        return f'XX_YY({str(self.theta)[:5]})', f'XX_YY({str(self.theta)[:5]})'\n"
   ]
  },
  {
   "cell_type": "markdown",
   "metadata": {},
   "source": [
    "This gives us the ability to work with the files <tt> coupling_dict.py </tt> and <tt> gates.py </tt> without having to touch the actual backend of the simulation."
   ]
  },
  {
   "cell_type": "markdown",
   "metadata": {},
   "source": [
    "# Give examples with figures"
   ]
  },
  {
   "cell_type": "markdown",
   "metadata": {},
   "source": [
    "Here we show how parameter sweeps can be implemented to gain insight to how different types of non-Markovian environments impact Grover's algorithm. First we start by adding the module directory to the local path."
   ]
  },
  {
   "cell_type": "code",
   "execution_count": 47,
   "metadata": {},
   "outputs": [],
   "source": [
    "import os\n",
    "import sys\n",
    "module_path = os.path.abspath(os.path.join('..'))\n",
    "if module_path not in sys.path:\n",
    "    sys.path.append(module_path)"
   ]
  },
  {
   "cell_type": "markdown",
   "metadata": {},
   "source": [
    "We then define our parameter sweep "
   ]
  },
  {
   "cell_type": "code",
   "execution_count": 48,
   "metadata": {},
   "outputs": [],
   "source": [
    "import grovers_flux_qubit\n",
    "import numpy as np\n",
    "import pickle\n",
    "from datetime import datetime\n",
    "import matplotlib.pyplot as plt\n",
    "import time\n",
    "\n",
    "def sweep_iterations(max_iterations=10,\n",
    "                     n_computational_qubits=2,\n",
    "                     n_bath_qubits=2,\n",
    "                     target=0,\n",
    "                     n_simulations=50,\n",
    "                     prob_ground=0.821662,\n",
    "                     savedir=None,\n",
    "                     savename=None,\n",
    "                     print_runtime=False,\n",
    "                     data_dict_return=False,\n",
    "                     run_simulation=True,\n",
    "                     print_circuit=False\n",
    "                    ):\n",
    "    \n",
    "\n",
    "    _start_tot_ = time.time()\n",
    "    grovers = grovers_flux_qubit.Grovers()\n",
    "\n",
    "    # path for saving file\n",
    "    if savename: filename = savename+'-{0}'.format(datetime.today().strftime('%Y%m%d_%H%M%S'))\n",
    "\n",
    "    # dictionary to store data\n",
    "    data_dict = {\n",
    "        'platform': 'Cirq',\n",
    "        'simulation-structure': 'flux qubit, with interactions structures as in the Pyquil version',\n",
    "        'Markovian': {'data': np.empty(max_iterations)},\n",
    "        'non-Markovian': {'data': np.empty(max_iterations)},\n",
    "        'n_computational_qubits': n_computational_qubits,\n",
    "        'n_bath_qubits': n_bath_qubits,\n",
    "        'target': target,\n",
    "        'n_simulations': n_simulations,\n",
    "        'prob_ground': prob_ground,\n",
    "        'max_iterations': max_iterations,\n",
    "    }\n",
    "    \n",
    "    if print_circuit:\n",
    "        for _bath_type_ in ['Markovian', 'non-Markovian']:\n",
    "            print(_bath_type_+' bath circuit:')\n",
    "            data_dict[_bath_type_]['data'][i-1] = grovers.main_oqs(n_computation_qubits=n_computational_qubits,\n",
    "                                                                      n_bath_qubits=n_bath_qubits,\n",
    "                                                                      target=target,\n",
    "                                                                      n_iterations=max_iterations,\n",
    "                                                                      bath_type=_bath_type_,\n",
    "                                                                      amplitude_damping_constant=1,\n",
    "                                                                      n_simulations=n_simulations,\n",
    "                                                                      prob_ground=prob_ground,\n",
    "                                                                  print_circuit=True,\n",
    "                                                                  run_simulation=False)\n",
    "    if run_simulation is False:\n",
    "        exit()\n",
    "        \n",
    "    # iterate through the number of iterations of grover's algorithm\n",
    "    for i in np.arange(max_iterations)+1:\n",
    "        _start_ = time.time()\n",
    "        if print_runtime: print(f'{i} iterations of Grover\\'s algorithm')\n",
    "\n",
    "        # Markovian\n",
    "        _bath_type_ = 'Markovian'\n",
    "        data_dict[_bath_type_]['data'][i-1] = grovers.main_oqs(n_computation_qubits=n_computational_qubits,\n",
    "                                                                  n_bath_qubits=n_bath_qubits,\n",
    "                                                                  target=target,\n",
    "                                                                  n_iterations=i,\n",
    "                                                                  bath_type=_bath_type_,\n",
    "                                                                  amplitude_damping_constant=1,\n",
    "                                                                  n_simulations=n_simulations,\n",
    "                                                                  prob_ground=prob_ground)\n",
    "\n",
    "        # non-Markovian\n",
    "        _bath_type_ = 'non-Markovian'\n",
    "        data_dict[_bath_type_]['data'][i-1] = grovers.main_oqs(n_computation_qubits=n_computational_qubits,\n",
    "                                                                  n_bath_qubits=n_bath_qubits,\n",
    "                                                                  target=target,\n",
    "                                                                  n_iterations=i,\n",
    "                                                                  bath_type=_bath_type_,\n",
    "                                                                  amplitude_damping_constant=1,\n",
    "                                                                  n_simulations=n_simulations,\n",
    "                                                                  prob_ground=prob_ground)\n",
    "        _end_ = time.time()\n",
    "        _runtime_minutes_ = str((_end_-_start_)/60.)[:5]\n",
    "        if print_runtime: print(f'completed in {_runtime_minutes_} minutes \\n\\n')\n",
    "\n",
    "    # record total runtime\n",
    "    _end_tot_ = time.time()\n",
    "    _tot_runtime_minutes_ = str((_end_tot_ - _start_tot_) / 60.)[:5]\n",
    "    if print_runtime: print(f'\\n Total runtime: {_tot_runtime_minutes_} minutes \\n\\n')\n",
    "    data_dict['Total runtime'] = f'{_tot_runtime_minutes_} minutes'\n",
    "\n",
    "    # record medians, means, std\n",
    "    data_dict['Markovian']['median'] = np.median(data_dict['Markovian']['data'], axis=0)\n",
    "    data_dict['Markovian']['mean'] = np.mean(data_dict['Markovian']['data'], axis=0)\n",
    "    data_dict['Markovian']['std'] = np.std(data_dict['Markovian']['data'], axis=0)\n",
    "\n",
    "    data_dict['non-Markovian']['median'] = np.median(data_dict['non-Markovian']['data'], axis=0)\n",
    "    data_dict['non-Markovian']['mean'] = np.mean(data_dict['non-Markovian']['data'], axis=0)\n",
    "    data_dict['non-Markovian']['std'] = np.std(data_dict['non-Markovian']['data'], axis=0)\n",
    "\n",
    "\n",
    "    # save the data with Pickle\n",
    "    if savedir is not None and savename is not None: pickle.dump(data_dict, open(savedir+filename+'.pickle', \"wb\"))\n",
    "\n",
    "    # plot the results\n",
    "    plt.figure(figsize=(8, 8))\n",
    "    ax = plt.axes()\n",
    "\n",
    "    colors = {'Markovian': {'facecolor': '#7BAFD4', 'edgecolor': '#00356B'},\n",
    "              'non-Markovian': {'facecolor': '#CD5C5C', 'edgecolor': '#800000'}\n",
    "              }\n",
    "\n",
    "    for _key_ in colors:\n",
    "        ax.plot(np.arange(max_iterations)+1, data_dict[_key_]['data'],\n",
    "                ls='-', lw=2, alpha=0.5, marker='o', markersize=5, color=colors[_key_]['edgecolor'],\n",
    "                label=_key_)\n",
    "\n",
    "    fontsize = 12\n",
    "    ax.set_ylabel(r\"Probability of measuring correct outcome $(P)$\", fontsize=fontsize)\n",
    "    ax.set_xlabel(r\"Iternations of Grover's algorithm $(n)$\", fontsize=fontsize)\n",
    "\n",
    "    plt.legend()\n",
    "    if savedir is not None and filename is not None: plt.savefig(savedir+filename+'.png')\n",
    "    \n",
    "    if data_dict_return: return data_dict"
   ]
  },
  {
   "cell_type": "code",
   "execution_count": 49,
   "metadata": {},
   "outputs": [
    {
     "name": "stdout",
     "output_type": "stream",
     "text": [
      "Markovian bath circuit:\n"
     ]
    },
    {
     "ename": "TypeError",
     "evalue": "main_oqs() got an unexpected keyword argument 'print_circuit'",
     "output_type": "error",
     "traceback": [
      "\u001b[1;31m---------------------------------------------------------------------------\u001b[0m",
      "\u001b[1;31mTypeError\u001b[0m                                 Traceback (most recent call last)",
      "\u001b[1;32m<ipython-input-49-8bcdecb3b71a>\u001b[0m in \u001b[0;36m<module>\u001b[1;34m\u001b[0m\n\u001b[0;32m      7\u001b[0m                  \u001b[0mprint_runtime\u001b[0m\u001b[1;33m=\u001b[0m\u001b[1;32mFalse\u001b[0m\u001b[1;33m,\u001b[0m\u001b[1;33m\u001b[0m\u001b[1;33m\u001b[0m\u001b[0m\n\u001b[0;32m      8\u001b[0m                 \u001b[0mprint_circuit\u001b[0m\u001b[1;33m=\u001b[0m\u001b[1;32mTrue\u001b[0m\u001b[1;33m,\u001b[0m\u001b[1;33m\u001b[0m\u001b[1;33m\u001b[0m\u001b[0m\n\u001b[1;32m----> 9\u001b[1;33m                 run_simulation=False)\n\u001b[0m",
      "\u001b[1;32m<ipython-input-48-c5a56d1464bf>\u001b[0m in \u001b[0;36msweep_iterations\u001b[1;34m(max_iterations, n_computational_qubits, n_bath_qubits, target, n_simulations, prob_ground, savedir, savename, print_runtime, data_dict_return, run_simulation, print_circuit)\u001b[0m\n\u001b[0;32m     53\u001b[0m                                                                       \u001b[0mprob_ground\u001b[0m\u001b[1;33m=\u001b[0m\u001b[0mprob_ground\u001b[0m\u001b[1;33m,\u001b[0m\u001b[1;33m\u001b[0m\u001b[1;33m\u001b[0m\u001b[0m\n\u001b[0;32m     54\u001b[0m                                                                   \u001b[0mprint_circuit\u001b[0m\u001b[1;33m=\u001b[0m\u001b[1;32mTrue\u001b[0m\u001b[1;33m,\u001b[0m\u001b[1;33m\u001b[0m\u001b[1;33m\u001b[0m\u001b[0m\n\u001b[1;32m---> 55\u001b[1;33m                                                                   run_simulation=False)\n\u001b[0m\u001b[0;32m     56\u001b[0m     \u001b[1;32mif\u001b[0m \u001b[0mrun_simulation\u001b[0m \u001b[1;32mis\u001b[0m \u001b[1;32mFalse\u001b[0m\u001b[1;33m:\u001b[0m\u001b[1;33m\u001b[0m\u001b[1;33m\u001b[0m\u001b[0m\n\u001b[0;32m     57\u001b[0m         \u001b[0mexit\u001b[0m\u001b[1;33m(\u001b[0m\u001b[1;33m)\u001b[0m\u001b[1;33m\u001b[0m\u001b[1;33m\u001b[0m\u001b[0m\n",
      "\u001b[1;31mTypeError\u001b[0m: main_oqs() got an unexpected keyword argument 'print_circuit'"
     ]
    }
   ],
   "source": [
    "sweep_iterations(max_iterations=7,\n",
    "                 n_computational_qubits=2,\n",
    "                 n_bath_qubits=3,\n",
    "                 target=0,\n",
    "                 n_simulations=40,\n",
    "                 prob_ground=0.821662,\n",
    "                 print_runtime=False,\n",
    "                print_circuit=True,\n",
    "                run_simulation=False)"
   ]
  },
  {
   "cell_type": "code",
   "execution_count": null,
   "metadata": {},
   "outputs": [],
   "source": []
  }
 ],
 "metadata": {
  "kernelspec": {
   "display_name": "Python 3",
   "language": "python",
   "name": "python3"
  },
  "language_info": {
   "codemirror_mode": {
    "name": "ipython",
    "version": 3
   },
   "file_extension": ".py",
   "mimetype": "text/x-python",
   "name": "python",
   "nbconvert_exporter": "python",
   "pygments_lexer": "ipython3",
   "version": "3.7.2"
  }
 },
 "nbformat": 4,
 "nbformat_minor": 2
}
